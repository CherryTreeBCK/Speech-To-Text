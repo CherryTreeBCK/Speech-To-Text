{
 "cells": [
  {
   "cell_type": "code",
   "execution_count": 13,
   "metadata": {},
   "outputs": [
    {
     "name": "stdout",
     "output_type": "stream",
     "text": [
      "^C\n",
      "Note: you may need to restart the kernel to use updated packages.\n"
     ]
    }
   ],
   "source": [
    "%pip uninstall google"
   ]
  },
  {
   "cell_type": "code",
   "execution_count": 1,
   "metadata": {},
   "outputs": [
    {
     "name": "stdout",
     "output_type": "stream",
     "text": [
      "Microphone with name \"Microsoft Sound Mapper - Input\" found for `Microphone(device_index=0)`\n",
      "Microphone with name \"Microphone (NVIDIA Broadcast)\" found for `Microphone(device_index=1)`\n",
      "Microphone with name \"Microphone (HyperX Cloud II Wir\" found for `Microphone(device_index=2)`\n",
      "Microphone with name \"Microphone (Logi C270 HD WebCam\" found for `Microphone(device_index=3)`\n",
      "Microphone with name \"CABLE Output (VB-Audio Virtual \" found for `Microphone(device_index=4)`\n",
      "Microphone with name \"VoiceMeeter Output (VB-Audio Vo\" found for `Microphone(device_index=5)`\n",
      "Microphone with name \"Microphone (HyperX SoloCast)\" found for `Microphone(device_index=6)`\n",
      "Microphone with name \"Microsoft Sound Mapper - Output\" found for `Microphone(device_index=7)`\n",
      "Microphone with name \"CABLE Input (VB-Audio Virtual C\" found for `Microphone(device_index=8)`\n",
      "Microphone with name \"M27Q (NVIDIA High Definition Au\" found for `Microphone(device_index=9)`\n",
      "Microphone with name \"Speakers (HyperX Cloud II Wirel\" found for `Microphone(device_index=10)`\n",
      "Microphone with name \"Speakers (NVIDIA Broadcast)\" found for `Microphone(device_index=11)`\n",
      "Microphone with name \"VoiceMeeter Input (VB-Audio Voi\" found for `Microphone(device_index=12)`\n",
      "Microphone with name \"Primary Sound Capture Driver\" found for `Microphone(device_index=13)`\n",
      "Microphone with name \"Microphone (NVIDIA Broadcast)\" found for `Microphone(device_index=14)`\n",
      "Microphone with name \"Microphone (HyperX Cloud II Wireless)\" found for `Microphone(device_index=15)`\n",
      "Microphone with name \"Microphone (Logi C270 HD WebCam)\" found for `Microphone(device_index=16)`\n",
      "Microphone with name \"CABLE Output (VB-Audio Virtual Cable)\" found for `Microphone(device_index=17)`\n",
      "Microphone with name \"VoiceMeeter Output (VB-Audio VoiceMeeter VAIO)\" found for `Microphone(device_index=18)`\n",
      "Microphone with name \"Microphone (HyperX SoloCast)\" found for `Microphone(device_index=19)`\n",
      "Microphone with name \"Primary Sound Driver\" found for `Microphone(device_index=20)`\n",
      "Microphone with name \"CABLE Input (VB-Audio Virtual Cable)\" found for `Microphone(device_index=21)`\n",
      "Microphone with name \"M27Q (NVIDIA High Definition Audio)\" found for `Microphone(device_index=22)`\n",
      "Microphone with name \"Speakers (HyperX Cloud II Wireless)\" found for `Microphone(device_index=23)`\n",
      "Microphone with name \"Speakers (NVIDIA Broadcast)\" found for `Microphone(device_index=24)`\n",
      "Microphone with name \"VoiceMeeter Input (VB-Audio VoiceMeeter VAIO)\" found for `Microphone(device_index=25)`\n",
      "Microphone with name \"CABLE Input (VB-Audio Virtual Cable)\" found for `Microphone(device_index=26)`\n",
      "Microphone with name \"M27Q (NVIDIA High Definition Audio)\" found for `Microphone(device_index=27)`\n",
      "Microphone with name \"Speakers (HyperX Cloud II Wireless)\" found for `Microphone(device_index=28)`\n",
      "Microphone with name \"Speakers (NVIDIA Broadcast)\" found for `Microphone(device_index=29)`\n",
      "Microphone with name \"VoiceMeeter Input (VB-Audio VoiceMeeter VAIO)\" found for `Microphone(device_index=30)`\n",
      "Microphone with name \"Microphone (HyperX Cloud II Wireless)\" found for `Microphone(device_index=31)`\n",
      "Microphone with name \"Microphone (Logi C270 HD WebCam)\" found for `Microphone(device_index=32)`\n",
      "Microphone with name \"CABLE Output (VB-Audio Virtual Cable)\" found for `Microphone(device_index=33)`\n",
      "Microphone with name \"VoiceMeeter Output (VB-Audio VoiceMeeter VAIO)\" found for `Microphone(device_index=34)`\n",
      "Microphone with name \"Microphone (HyperX SoloCast)\" found for `Microphone(device_index=35)`\n",
      "Microphone with name \"Microphone (NVIDIA Broadcast)\" found for `Microphone(device_index=36)`\n",
      "Microphone with name \"Output (RTX-Audio Point)\" found for `Microphone(device_index=37)`\n",
      "Microphone with name \"Microphone (RTX-Audio Point)\" found for `Microphone(device_index=38)`\n",
      "Microphone with name \"CABLE Output (VB-Audio Point)\" found for `Microphone(device_index=39)`\n",
      "Microphone with name \"Speakers (VB-Audio Point)\" found for `Microphone(device_index=40)`\n",
      "Microphone with name \"Microphone (Logi C270 HD WebCam)\" found for `Microphone(device_index=41)`\n",
      "Microphone with name \"VoiceMeeter Output (VoiceMeeter vaio)\" found for `Microphone(device_index=42)`\n",
      "Microphone with name \"Speakers (VoiceMeeter vaio)\" found for `Microphone(device_index=43)`\n",
      "Microphone with name \"Output (NVIDIA High Definition Audio)\" found for `Microphone(device_index=44)`\n",
      "Microphone with name \"Microphone (HyperX SoloCast)\" found for `Microphone(device_index=45)`\n",
      "Microphone with name \"Microphone (HyperX Cloud II Wireless)\" found for `Microphone(device_index=46)`\n",
      "Microphone with name \"Speakers (HyperX Cloud II Wireless)\" found for `Microphone(device_index=47)`\n"
     ]
    }
   ],
   "source": [
    "import speech_recognition as sr\n",
    "\n",
    "for index, name in enumerate(sr.Microphone.list_microphone_names()):\n",
    "    print(\"Microphone with name \\\"{1}\\\" found for `Microphone(device_index={0})`\".format(index, name))"
   ]
  },
  {
   "cell_type": "code",
   "execution_count": 3,
   "metadata": {},
   "outputs": [
    {
     "ename": "FileNotFoundError",
     "evalue": "[Errno 2] No such file or directory: ''",
     "output_type": "error",
     "traceback": [
      "\u001b[1;31m---------------------------------------------------------------------------\u001b[0m",
      "\u001b[1;31mFileNotFoundError\u001b[0m                         Traceback (most recent call last)",
      "\u001b[1;32mc:\\Users\\bckir\\VSCode Projects\\STT.ipynb Cell 2\u001b[0m line \u001b[0;36m3\n\u001b[0;32m      <a href='vscode-notebook-cell:/c%3A/Users/bckir/VSCode%20Projects/STT.ipynb#W1sZmlsZQ%3D%3D?line=0'>1</a>\u001b[0m \u001b[39mfrom\u001b[39;00m \u001b[39mtransformers\u001b[39;00m \u001b[39mimport\u001b[39;00m pipeline\n\u001b[1;32m----> <a href='vscode-notebook-cell:/c%3A/Users/bckir/VSCode%20Projects/STT.ipynb#W1sZmlsZQ%3D%3D?line=2'>3</a>\u001b[0m \u001b[39mwith\u001b[39;00m \u001b[39mopen\u001b[39;49m(\u001b[39m\"\u001b[39;49m\u001b[39m\"\u001b[39;49m, \u001b[39m\"\u001b[39;49m\u001b[39mrb\u001b[39;49m\u001b[39m\"\u001b[39;49m) \u001b[39mas\u001b[39;00m f:\n\u001b[0;32m      <a href='vscode-notebook-cell:/c%3A/Users/bckir/VSCode%20Projects/STT.ipynb#W1sZmlsZQ%3D%3D?line=3'>4</a>\u001b[0m   data \u001b[39m=\u001b[39m f\u001b[39m.\u001b[39mread()\n\u001b[0;32m      <a href='vscode-notebook-cell:/c%3A/Users/bckir/VSCode%20Projects/STT.ipynb#W1sZmlsZQ%3D%3D?line=5'>6</a>\u001b[0m pipe \u001b[39m=\u001b[39m pipeline(\u001b[39m\"\u001b[39m\u001b[39mautomatic-speech-recognition\u001b[39m\u001b[39m\"\u001b[39m, \u001b[39m\"\u001b[39m\u001b[39mopenai/whisper-tiny\u001b[39m\u001b[39m\"\u001b[39m)\n",
      "File \u001b[1;32m~\\AppData\\Roaming\\Python\\Python311\\site-packages\\IPython\\core\\interactiveshell.py:286\u001b[0m, in \u001b[0;36m_modified_open\u001b[1;34m(file, *args, **kwargs)\u001b[0m\n\u001b[0;32m    279\u001b[0m \u001b[39mif\u001b[39;00m file \u001b[39min\u001b[39;00m {\u001b[39m0\u001b[39m, \u001b[39m1\u001b[39m, \u001b[39m2\u001b[39m}:\n\u001b[0;32m    280\u001b[0m     \u001b[39mraise\u001b[39;00m \u001b[39mValueError\u001b[39;00m(\n\u001b[0;32m    281\u001b[0m         \u001b[39mf\u001b[39m\u001b[39m\"\u001b[39m\u001b[39mIPython won\u001b[39m\u001b[39m'\u001b[39m\u001b[39mt let you open fd=\u001b[39m\u001b[39m{\u001b[39;00mfile\u001b[39m}\u001b[39;00m\u001b[39m by default \u001b[39m\u001b[39m\"\u001b[39m\n\u001b[0;32m    282\u001b[0m         \u001b[39m\"\u001b[39m\u001b[39mas it is likely to crash IPython. If you know what you are doing, \u001b[39m\u001b[39m\"\u001b[39m\n\u001b[0;32m    283\u001b[0m         \u001b[39m\"\u001b[39m\u001b[39myou can use builtins\u001b[39m\u001b[39m'\u001b[39m\u001b[39m open.\u001b[39m\u001b[39m\"\u001b[39m\n\u001b[0;32m    284\u001b[0m     )\n\u001b[1;32m--> 286\u001b[0m \u001b[39mreturn\u001b[39;00m io_open(file, \u001b[39m*\u001b[39;49margs, \u001b[39m*\u001b[39;49m\u001b[39m*\u001b[39;49mkwargs)\n",
      "\u001b[1;31mFileNotFoundError\u001b[0m: [Errno 2] No such file or directory: ''"
     ]
    }
   ],
   "source": [
    "from transformers import pipeline\n",
    "\n",
    "with open(\"\", \"rb\") as f:\n",
    "  data = f.read()\n",
    "\n",
    "pipe = pipeline(\"automatic-speech-recognition\", \"openai/whisper-tiny\")\n",
    "pipe(\"\")"
   ]
  }
 ],
 "metadata": {
  "kernelspec": {
   "display_name": "Python 3",
   "language": "python",
   "name": "python3"
  },
  "language_info": {
   "codemirror_mode": {
    "name": "ipython",
    "version": 3
   },
   "file_extension": ".py",
   "mimetype": "text/x-python",
   "name": "python",
   "nbconvert_exporter": "python",
   "pygments_lexer": "ipython3",
   "version": "3.11.1"
  }
 },
 "nbformat": 4,
 "nbformat_minor": 2
}
